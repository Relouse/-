{
 "cells": [
  {
   "cell_type": "code",
   "execution_count": 340,
   "id": "74c55414",
   "metadata": {},
   "outputs": [
    {
     "name": "stdout",
     "output_type": "stream",
     "text": [
      "Задание №1\n"
     ]
    }
   ],
   "source": [
    "print('Задание №1')\n",
    "import re # Импорт регулярок для проверки корректности данных"
   ]
  },
  {
   "cell_type": "code",
   "execution_count": 341,
   "id": "7d5f1a48",
   "metadata": {},
   "outputs": [],
   "source": [
    "def isint(s):  # Проверка на инт\n",
    "    try:\n",
    "        int(s)\n",
    "        return True\n",
    "    except ValueError:\n",
    "        return False"
   ]
  },
  {
   "cell_type": "code",
   "execution_count": 342,
   "id": "180a6f46",
   "metadata": {},
   "outputs": [],
   "source": [
    "# Размерность матрицы\n",
    "def create_matrix():\n",
    "    flag = False\n",
    "    while flag == False:\n",
    "        n = input('Введите размерность таблицы(одно натуральное число, матрица квадратная): ')\n",
    "        flag = isint(n)  # Проверка на int \n",
    "        if (flag == False):\n",
    "            print('Попробуйте еще раз: ')\n",
    "        else: \n",
    "            n=int(n)\n",
    "            if n<=0:  # Проверка на натуральное число\n",
    "                print('Попробуйте еще раз: ')\n",
    "                flag = False\n",
    "    # Создание матрицы        \n",
    "    A = [[0.0] * n for i in range(n)]\n",
    "    max_length = 0  # Максимальная длина числа(необходимо для красивого вывода матрицы)\n",
    "    template = r'[^-.,\\d]'\n",
    "    for i in range (0,n*n):\n",
    "        flag=True\n",
    "        while flag:\n",
    "                k = 0\n",
    "                a = input(f'[{i//n}][{i%n}]')  # Ввод значений матрциы\n",
    "                \n",
    "                # Проверка на вещественное число\n",
    "                if (re.findall(template, a) == []) & (len([k+1 for i in a if  (i=='.') | (i==',')]) < 2) & (a != '') :\n",
    "                    if ',' in a:   # Если пользователь захочет, вместо '.', использовать ','\n",
    "                        a = a.replace(',', '.')\n",
    "                    A[i//n][i%n] = float(a)\n",
    "                    flag=False\n",
    "                else:\n",
    "                    print('Попробуйте еще раз:')\n",
    "                if len(str(A[i//n][i%n])) > max_length:  # Поиск максимальной длины числа\n",
    "                    max_length = len(str(A[i//n][i%n]))\n",
    "    return A, n, max_length"
   ]
  },
  {
   "cell_type": "code",
   "execution_count": 343,
   "id": "575828d4",
   "metadata": {},
   "outputs": [],
   "source": [
    "# Вывод матрицы\n",
    "def print_matrix(x,n, max_length):\n",
    "    for i in range(0,n*n):\n",
    "        if i%n==0:\n",
    "            print('_'*(n*max_length + n+1))  # Черта для таблички\n",
    "        print(f'|{x[i//n][i%n]:<{max_length}}',end='')  # Вывод с условием форматирования под максимальную длину числа\n",
    "        if (i%n == n-1): \n",
    "            print('|')  # Черта для таблички\n",
    "    print('_'*(n*max_length + n+1))  # Черта для таблички"
   ]
  },
  {
   "cell_type": "code",
   "execution_count": 344,
   "id": "41727cea",
   "metadata": {},
   "outputs": [],
   "source": [
    "# Обратная матрица\n",
    "import copy\n",
    "from fractions import Fraction\n",
    "\n",
    "def gauss(a):\n",
    "    a = copy.deepcopy(a)\n",
    "    n = len(a)\n",
    "    \n",
    "    b = [[0.0] * n for i in range(n)]  # Создание единичной матрицы\n",
    "    for i in range(n):\n",
    "        for j in range(n):\n",
    "            if i == j:\n",
    "                b[i][j] = 1\n",
    "                \n",
    "    b = copy.deepcopy(b) # Алгоритм по созданию обратной матрицы\n",
    "    max_length = 0\n",
    "    det = 1\n",
    "    for i in range(n - 1):\n",
    "        k = i\n",
    "        for j in range(i + 1, n):\n",
    "            if abs(a[j][i]) > abs(a[k][i]):\n",
    "                k = j\n",
    "        if k != i:\n",
    "            a[i], a[k] = a[k], a[i]\n",
    "            b[i], b[k] = b[k], b[i]\n",
    "            det = -det\n",
    "            \n",
    "        for j in range(i + 1, n):\n",
    "            t = a[j][i]/a[i][i]\n",
    "            for k in range(i + 1, n):\n",
    "                a[j][k] -= t*a[i][k]\n",
    "            for k in range(n):\n",
    "                b[j][k] -= t*b[i][k]\n",
    "                \n",
    "    for i in range(n - 1, -1, -1):\n",
    "        for j in range(i + 1, n):\n",
    "            t = a[i][j]\n",
    "            for k in range(n):\n",
    "                b[i][k] -= t*b[j][k]\n",
    "        t = 1/a[i][i]\n",
    "        det *= a[i][i]\n",
    "        for j in range(n):\n",
    "            b[i][j] *= t\n",
    "            b[i][j] = round(b[i][j],1)\n",
    "            if len(str(b[i][j])) > max_length: #Поиск максимальной длины числа\n",
    "                max_length = len(str(b[i][j]))\n",
    "    det = round(det,1) \n",
    "    return b, max_length"
   ]
  },
  {
   "cell_type": "code",
   "execution_count": 345,
   "id": "67aa32bc",
   "metadata": {},
   "outputs": [
    {
     "name": "stdout",
     "output_type": "stream",
     "text": [
      "Введите размерность таблицы(одно натуральное числа, матрица квадратная): 3\n",
      "[0][0]-1\n",
      "[0][1]2\n",
      "[0][2]-2\n",
      "[1][0]2\n",
      "[1][1]-1\n",
      "[1][2]5\n",
      "[2][0]3\n",
      "[2][1]-2\n",
      "[2][2]4\n",
      "Введенная матрица: \n",
      "________________\n",
      "|-1.0|2.0 |-2.0|\n",
      "________________\n",
      "|2.0 |-1.0|5.0 |\n",
      "________________\n",
      "|3.0 |-2.0|4.0 |\n",
      "________________\n",
      "Обратная матрица: \n",
      "________________\n",
      "|0.6 |-0.4|0.8 |\n",
      "________________\n",
      "|0.7 |0.2 |0.1 |\n",
      "________________\n",
      "|-0.1|0.4 |-0.3|\n",
      "________________\n"
     ]
    }
   ],
   "source": [
    "a, n, max_length_a = create_matrix()\n",
    "print('Введенная матрица: ')\n",
    "print_matrix(a, n, max_length_a)\n",
    "b, max_length_b = gauss(a)\n",
    "print('Обратная матрица: ')\n",
    "print_matrix(b, n, max_length_b)"
   ]
  }
 ],
 "metadata": {
  "kernelspec": {
   "display_name": "Python 3 (ipykernel)",
   "language": "python",
   "name": "python3"
  },
  "language_info": {
   "codemirror_mode": {
    "name": "ipython",
    "version": 3
   },
   "file_extension": ".py",
   "mimetype": "text/x-python",
   "name": "python",
   "nbconvert_exporter": "python",
   "pygments_lexer": "ipython3",
   "version": "3.9.12"
  }
 },
 "nbformat": 4,
 "nbformat_minor": 5
}
